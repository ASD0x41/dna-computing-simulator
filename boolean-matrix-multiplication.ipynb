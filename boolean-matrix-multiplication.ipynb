{
 "cells": [
  {
   "cell_type": "code",
   "execution_count": 1570,
   "metadata": {},
   "outputs": [],
   "source": [
    "import random"
   ]
  },
  {
   "cell_type": "code",
   "execution_count": 1571,
   "metadata": {},
   "outputs": [],
   "source": [
    "base_pairs = {'A': 'T', 'T': 'A', 'C': 'G', 'G': 'C'}"
   ]
  },
  {
   "cell_type": "code",
   "execution_count": 1572,
   "metadata": {},
   "outputs": [],
   "source": [
    "strand_length = 10"
   ]
  },
  {
   "cell_type": "code",
   "execution_count": 1573,
   "metadata": {},
   "outputs": [],
   "source": [
    "matrices = [\n",
    "    # Matrix 0:\n",
    "    [\n",
    "        [0, 1], # a\n",
    "        [1, 0]  # b\n",
    "       # c  d\n",
    "    ],\n",
    "    # Matrix 1:\n",
    "    [\n",
    "        [1, 0], # c\n",
    "        [0, 1]  # d\n",
    "       # e  f\n",
    "    ],\n",
    "    # Matrix 2:\n",
    "    [\n",
    "        [0, 1], # e\n",
    "        [1, 0]  # f\n",
    "       # g  h\n",
    "    ],\n",
    "    # Matrix 3:\n",
    "    [\n",
    "        [1, 0], # g\n",
    "        [0, 1]  # h\n",
    "       # i  j\n",
    "    ]\n",
    "]"
   ]
  },
  {
   "cell_type": "code",
   "execution_count": 1574,
   "metadata": {},
   "outputs": [],
   "source": [
    "vertex_labels = {\n",
    "    (0, 0): 'a',\n",
    "    (0, 1): 'b',\n",
    "    (1, 0): 'c',\n",
    "    (1, 1): 'd',\n",
    "    (2, 0): 'e',\n",
    "    (2, 1): 'f',\n",
    "    (3, 0): 'g',\n",
    "    (3, 1): 'h',\n",
    "    (4, 0): 'i',\n",
    "    (4, 1): 'j'\n",
    "}"
   ]
  },
  {
   "cell_type": "code",
   "execution_count": 1575,
   "metadata": {},
   "outputs": [],
   "source": [
    "assert strand_length % 2 == 0\n",
    "\n",
    "matrix_count = len(matrices)\n",
    "assert matrix_count > 1\n",
    "\n",
    "assert all(len(matrices[i]) > 0 for i in range(matrix_count))\n",
    "for i in range(matrix_count):\n",
    "    assert all(len(matrices[i][j]) > 0 for j in range(len(matrices[i])))\n",
    "    for j in range(len(matrices[i])):\n",
    "        assert all(not isinstance(matrices[i][j][k], list) for k in range(len(matrices[i][j])))\n",
    "        assert all((matrices[i][j][k] in (0, 1)) for k in range(len(matrices[i][j])))\n",
    "assert all(len(set(len(matrices[i][j]) for j in range(len(matrices[i])))) == 1 for i in range(matrix_count))\n",
    "assert all(len(matrices[i - 1][0]) == len(matrices[i]) for i in range(1, matrix_count))\n",
    "\n",
    "vertex_count = len(matrices[0]) + sum(len(matrices[i]) for i in range(1, matrix_count)) + len(matrices[matrix_count - 1][0])\n",
    "initial_vertices, terminal_vertices = len(matrices[0][0]), len(matrices[-1][0])\n",
    "\n",
    "assert len(vertex_labels) == vertex_count\n",
    "assert all(isinstance(key, tuple) and len(key) == 2 and isinstance(key[0], int) and isinstance(key[1], int) for key in vertex_labels.keys())\n",
    "for i in range(matrix_count + 1):\n",
    "    assert all((i, j) in vertex_labels.keys() for j in range(len(matrices[i]) if i < matrix_count else terminal_vertices))\n",
    "assert all(isinstance(value, str) and len(value) > 0 for value in vertex_labels.values())"
   ]
  },
  {
   "cell_type": "code",
   "execution_count": 1576,
   "metadata": {},
   "outputs": [],
   "source": [
    "def GenerateRandomDNASequence(sequence_length):\n",
    "    return ''.join(random.choices(list(base_pairs.keys()), k = sequence_length))"
   ]
  },
  {
   "cell_type": "code",
   "execution_count": 1577,
   "metadata": {},
   "outputs": [
    {
     "name": "stdout",
     "output_type": "stream",
     "text": [
      "Vertex Strands:\n",
      "\ta : ATTCGTTCTT\n",
      "\tb : TCTTGGACAG\n",
      "\tc : GCACAGTTAA\n",
      "\td : ATCACACAAT\n",
      "\te : GCCCTTCTGG\n",
      "\tf : TAAAACGGCT\n",
      "\tg : GCTTGGACAG\n",
      "\th : CTCAGTGAGC\n",
      "\ti : GTCATGAGCG\n",
      "\tj : ATGAACGGTG\n"
     ]
    }
   ],
   "source": [
    "vertex_strands = []\n",
    "vertex_encodings = {}\n",
    "vertex_decodings = {}\n",
    "\n",
    "for i in range(matrix_count + 1):\n",
    "    vertex_layer = []\n",
    "    for j in range(len(matrices[i]) if i < matrix_count else terminal_vertices):\n",
    "        new_strand = GenerateRandomDNASequence(strand_length)\n",
    "        \n",
    "        vertex_layer.append(new_strand)\n",
    "        vertex_encodings[vertex_labels[(i, j)]] = new_strand\n",
    "        vertex_decodings[new_strand] = (i, j)\n",
    "    vertex_strands.append(vertex_layer)\n",
    "\n",
    "print(\"Vertex Strands:\")\n",
    "for vertex_label, vertex_strand in vertex_encodings.items():\n",
    "    print(\"\\t\" + vertex_label + \" : \" + vertex_strand)"
   ]
  },
  {
   "cell_type": "code",
   "execution_count": 1578,
   "metadata": {},
   "outputs": [],
   "source": [
    "def GenerateComplementaryDNASequence(sequence):\n",
    "    return ''.join(base_pairs[sequence[i]] for i in range(len(sequence)))"
   ]
  },
  {
   "cell_type": "code",
   "execution_count": 1579,
   "metadata": {},
   "outputs": [
    {
     "name": "stdout",
     "output_type": "stream",
     "text": [
      "Edge Strands:\n",
      "\t(a,d) : AAGAATAGTG\n",
      "\t(b,c) : CTGTCCGTGT\n",
      "\t(c,e) : CAATTCGGGA\n",
      "\t(d,f) : TGTTAATTTT\n",
      "\t(e,h) : AGACCGAGTC\n",
      "\t(f,g) : GCCGACGAAC\n",
      "\t(g,i) : CTGTCCAGTA\n",
      "\t(h,j) : ACTCGTACTT\n"
     ]
    }
   ],
   "source": [
    "edge_strands = []\n",
    "edge_encodings = {}\n",
    "edge_decodings = {}\n",
    "\n",
    "for i in range(matrix_count):\n",
    "    for j in range(len(matrices[i])):\n",
    "        for k in range(len(matrices[i][j])):\n",
    "            if matrices[i][j][k] == 1:\n",
    "                left_half = GenerateComplementaryDNASequence(vertex_strands[i][j][strand_length // 2:])\n",
    "                right_half = GenerateComplementaryDNASequence(vertex_strands[i + 1][k][:strand_length // 2])\n",
    "                new_strand = left_half + right_half\n",
    "\n",
    "                edge_strands.append(new_strand)\n",
    "                edge_encodings[(vertex_labels[(i, j)], vertex_labels[(i + 1, k)])] = new_strand\n",
    "                edge_decodings[new_strand] = (vertex_labels[(i, j)], vertex_labels[(i + 1, k)])\n",
    "\n",
    "print(\"Edge Strands:\")\n",
    "for edge_strand, edge_label in edge_decodings.items():\n",
    "    print(\"\\t(\" + edge_label[0] + \",\" + edge_label[1] + \") : \" + edge_strand)"
   ]
  },
  {
   "cell_type": "code",
   "execution_count": 1580,
   "metadata": {},
   "outputs": [],
   "source": [
    "template = set()\n",
    "for i in range(matrix_count + 1):\n",
    "    for j in range(len(matrices[i]) if i < matrix_count else terminal_vertices):\n",
    "        template.add(vertex_strands[i][j])"
   ]
  },
  {
   "cell_type": "code",
   "execution_count": 1581,
   "metadata": {},
   "outputs": [],
   "source": [
    "def Match(strandOne, strandTwo):\n",
    "    strand_len = len(strandOne)\n",
    "    return strand_len == len(strandTwo) and all(strandOne[i] == base_pairs[strandTwo[i]] for i in range(strand_len))"
   ]
  },
  {
   "cell_type": "code",
   "execution_count": 1582,
   "metadata": {},
   "outputs": [
    {
     "name": "stdout",
     "output_type": "stream",
     "text": [
      "Path Strands:\n",
      "\tGCTTGGACAG-GTCATGAGCG (g -> i)\n",
      "\tGCCCTTCTGG (e)\n",
      "\tTCTTGGACAG-GCACAGTTAA-GCCCTTCTGG (b -> c -> e)\n",
      "\tTAAAACGGCT (f)\n",
      "\tTAAAACGGCT-GCTTGGACAG-GCACAGTTAA-GCCCTTCTGG (f -> g -> c -> e)\n",
      "\tGCCCTTCTGG-CTCAGTGAGC (e -> h)\n",
      "\tCTCAGTGAGC-ATGAACGGTG (h -> j)\n",
      "\tGCACAGTTAA-GCCCTTCTGG-CTCAGTGAGC-ATGAACGGTG (c -> e -> h -> j)\n",
      "\tATTCGTTCTT-ATCACACAAT-TAAAACGGCT-GCTTGGACAG-GTCATGAGCG (a -> d -> f -> g -> i)\n",
      "\tGCTTGGACAG (g)\n",
      "\tTCTTGGACAG-GCACAGTTAA (b -> c)\n",
      "\tATTCGTTCTT-ATCACACAAT-TAAAACGGCT (a -> d -> f)\n",
      "\tGCTTGGACAG-GCACAGTTAA (g -> c)\n",
      "\tGCACAGTTAA (c)\n",
      "\tATTCGTTCTT-ATCACACAAT-TAAAACGGCT-GCTTGGACAG-GCACAGTTAA (a -> d -> f -> g -> c)\n",
      "\tTCTTGGACAG-GCACAGTTAA-GCCCTTCTGG-CTCAGTGAGC-ATGAACGGTG (b -> c -> e -> h -> j)\n",
      "\tTCTTGGACAG (b)\n",
      "\tATTCGTTCTT (a)\n",
      "\tATCACACAAT-TAAAACGGCT-GCTTGGACAG-GCACAGTTAA-GCCCTTCTGG (d -> f -> g -> c -> e)\n",
      "\tTAAAACGGCT-GCTTGGACAG-GCACAGTTAA-GCCCTTCTGG-CTCAGTGAGC (f -> g -> c -> e -> h)\n",
      "\tTCTTGGACAG-GTCATGAGCG (b -> i)\n",
      "\tGCTTGGACAG-GCACAGTTAA-GCCCTTCTGG (g -> c -> e)\n",
      "\tTAAAACGGCT-GCTTGGACAG (f -> g)\n",
      "\tGCACAGTTAA-GCCCTTCTGG-CTCAGTGAGC (c -> e -> h)\n",
      "\tCTCAGTGAGC (h)\n",
      "\tATTCGTTCTT-ATCACACAAT (a -> d)\n",
      "\tGCTTGGACAG-GCACAGTTAA-GCCCTTCTGG-CTCAGTGAGC (g -> c -> e -> h)\n",
      "\tATCACACAAT-TAAAACGGCT (d -> f)\n",
      "\tATCACACAAT-TAAAACGGCT-GCTTGGACAG-GCACAGTTAA (d -> f -> g -> c)\n",
      "\tTAAAACGGCT-GCTTGGACAG-GTCATGAGCG (f -> g -> i)\n",
      "\tGCCCTTCTGG-CTCAGTGAGC-ATGAACGGTG (e -> h -> j)\n",
      "\tATTCGTTCTT-ATCACACAAT-TAAAACGGCT-GCTTGGACAG (a -> d -> f -> g)\n",
      "\tTAAAACGGCT-GCTTGGACAG-GCACAGTTAA (f -> g -> c)\n",
      "\tATCACACAAT-TAAAACGGCT-GCTTGGACAG (d -> f -> g)\n",
      "\tTCTTGGACAG-GCACAGTTAA-GCCCTTCTGG-CTCAGTGAGC (b -> c -> e -> h)\n",
      "\tGCTTGGACAG-GCACAGTTAA-GCCCTTCTGG-CTCAGTGAGC-ATGAACGGTG (g -> c -> e -> h -> j)\n",
      "\tGTCATGAGCG (i)\n",
      "\tATCACACAAT (d)\n",
      "\tGCACAGTTAA-GCCCTTCTGG (c -> e)\n",
      "\tATGAACGGTG (j)\n",
      "\tATCACACAAT-TAAAACGGCT-GCTTGGACAG-GTCATGAGCG (d -> f -> g -> i)\n"
     ]
    }
   ],
   "source": [
    "for _ in range(matrix_count):\n",
    "    growing_strands = set()\n",
    "    for path_strand in template:\n",
    "        for edge_strand in edge_strands:\n",
    "            if Match(path_strand[-(strand_length // 2):], edge_strand[:strand_length // 2]):\n",
    "                growing_strands.add(path_strand + \"-\" + vertex_encodings[edge_decodings[edge_strand][1]])\n",
    "    template = template.union(growing_strands)\n",
    "\n",
    "print(\"Path Strands:\")\n",
    "for path_strand in template:\n",
    "    print(\"\\t\" + path_strand + \" (\" + vertex_labels[vertex_decodings[path_strand[:strand_length]]], end = '')\n",
    "    for i in range(1, (len(path_strand) + 1) // (strand_length + 1)):\n",
    "        print(\" -> \" + vertex_labels[vertex_decodings[path_strand[i * (strand_length + 1) : (i + 1) * (strand_length + 1) - 1]]], end = '')\n",
    "    print(\")\")"
   ]
  },
  {
   "cell_type": "code",
   "execution_count": 1583,
   "metadata": {},
   "outputs": [
    {
     "name": "stdout",
     "output_type": "stream",
     "text": [
      "Complete Paths:\n",
      "\tATTCGTTCTT-ATCACACAAT-TAAAACGGCT-GCTTGGACAG-GTCATGAGCG (a -> d -> f -> g -> i)\n",
      "\tTCTTGGACAG-GCACAGTTAA-GCCCTTCTGG-CTCAGTGAGC-ATGAACGGTG (b -> c -> e -> h -> j)\n",
      "\tTCTTGGACAG-GTCATGAGCG (b -> i)\n",
      "\n",
      "Product Matrix:\n",
      "\t [[1, 0], [1, 1]]\n"
     ]
    }
   ],
   "source": [
    "print(\"Complete Paths:\")\n",
    "\n",
    "product_matrix = [[0 for j in range(terminal_vertices)] for i in range(initial_vertices)]\n",
    "\n",
    "for path_strand in template:\n",
    "    starting_vertex = path_strand[:strand_length]\n",
    "    ending_vertex = path_strand[-strand_length:]\n",
    "\n",
    "    if starting_vertex in vertex_strands[0] and ending_vertex in vertex_strands[matrix_count]:\n",
    "        product_matrix[vertex_decodings[starting_vertex][1]][vertex_decodings[ending_vertex][1]] = 1\n",
    "        \n",
    "        print(\"\\t\" + path_strand + \" (\" + vertex_labels[vertex_decodings[path_strand[:strand_length]]], end = '')\n",
    "        for i in range(1, (len(path_strand) + 1) // (strand_length + 1)):\n",
    "            print(\" -> \" + vertex_labels[vertex_decodings[path_strand[i * (strand_length + 1) : (i + 1) * (strand_length + 1) - 1]]], end = '')\n",
    "        print(\")\")\n",
    "\n",
    "print(\"\\nProduct Matrix:\")\n",
    "print(\"\\t\", product_matrix)"
   ]
  }
 ],
 "metadata": {
  "kernelspec": {
   "display_name": "Python 3",
   "language": "python",
   "name": "python3"
  },
  "language_info": {
   "codemirror_mode": {
    "name": "ipython",
    "version": 3
   },
   "file_extension": ".py",
   "mimetype": "text/x-python",
   "name": "python",
   "nbconvert_exporter": "python",
   "pygments_lexer": "ipython3",
   "version": "3.11.9"
  }
 },
 "nbformat": 4,
 "nbformat_minor": 2
}
